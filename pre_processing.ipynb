{
 "cells": [
  {
   "cell_type": "code",
   "execution_count": 32,
   "metadata": {
    "collapsed": false
   },
   "outputs": [
    {
     "name": "stdout",
     "output_type": "stream",
     "text": [
      "        Rank                                               Name Platform  \\\n",
      "16588  16591                                   Mega Brain Boost       DS   \n",
      "16589  16592  Chou Ezaru wa Akai Hana: Koi wa Tsuki ni Shiru...      PSV   \n",
      "16590  16593  Eiyuu Densetsu: Sora no Kiseki Material Collec...      PSP   \n",
      "16591  16594                                Myst IV: Revelation       PC   \n",
      "16592  16595                                           Plushees       DS   \n",
      "16593  16596                 Woody Woodpecker in Crazy Castle 5      GBA   \n",
      "16594  16597                      Men in Black II: Alien Escape       GC   \n",
      "16595  16598   SCORE International Baja 1000: The Official Game      PS2   \n",
      "16596  16599                                         Know How 2       DS   \n",
      "16597  16600                                   Spirits & Spells      GBA   \n",
      "\n",
      "         Year         Genre              Publisher  NA_Sales  EU_Sales  \\\n",
      "16588  2008.0        Puzzle  Majesco Entertainment      0.01      0.00   \n",
      "16589  2016.0        Action        dramatic create      0.00      0.00   \n",
      "16590  2007.0  Role-Playing     Falcom Corporation      0.00      0.00   \n",
      "16591  2004.0     Adventure                Ubisoft      0.01      0.00   \n",
      "16592  2008.0    Simulation              Destineer      0.01      0.00   \n",
      "16593  2002.0      Platform                  Kemco      0.01      0.00   \n",
      "16594  2003.0       Shooter             Infogrames      0.01      0.00   \n",
      "16595  2008.0        Racing             Activision      0.00      0.00   \n",
      "16596  2010.0        Puzzle               7G//AMES      0.00      0.01   \n",
      "16597  2003.0      Platform                Wanadoo      0.01      0.00   \n",
      "\n",
      "       JP_Sales  Other_Sales  Global_Sales  \n",
      "16588      0.00          0.0          0.01  \n",
      "16589      0.01          0.0          0.01  \n",
      "16590      0.01          0.0          0.01  \n",
      "16591      0.00          0.0          0.01  \n",
      "16592      0.00          0.0          0.01  \n",
      "16593      0.00          0.0          0.01  \n",
      "16594      0.00          0.0          0.01  \n",
      "16595      0.00          0.0          0.01  \n",
      "16596      0.00          0.0          0.01  \n",
      "16597      0.00          0.0          0.01  \n"
     ]
    }
   ],
   "source": [
    "import pandas as pd\n",
    "dataset = pd.read_csv(\"video_game_sales.csv\", header = 0)\n",
    "print dataset.tail(10)"
   ]
  },
  {
   "cell_type": "code",
   "execution_count": 33,
   "metadata": {
    "collapsed": false
   },
   "outputs": [
    {
     "name": "stdout",
     "output_type": "stream",
     "text": [
      "Values in Platform\n",
      "['Wii' 'NES' 'GB' 'DS' 'X360' 'PS3' 'PS2' 'SNES' 'GBA' '3DS' 'PS4' 'N64'\n",
      " 'PS' 'XB' 'PC' '2600' 'PSP' 'XOne' 'GC' 'WiiU' 'GEN' 'DC' 'PSV' 'SAT'\n",
      " 'SCD' 'WS' 'NG' 'TG16' '3DO' 'GG' 'PCFX']\n",
      "Values in Genre\n",
      "['Sports' 'Platform' 'Racing' 'Role-Playing' 'Puzzle' 'Misc' 'Shooter'\n",
      " 'Simulation' 'Action' 'Fighting' 'Adventure' 'Strategy']\n",
      "Values in Publisher\n",
      "['Nintendo' 'Microsoft Game Studios' 'Take-Two Interactive'\n",
      " 'Sony Computer Entertainment' 'Activision' 'Ubisoft' 'Bethesda Softworks'\n",
      " 'Electronic Arts' 'Sega' 'SquareSoft' 'Atari' '505 Games' 'Capcom'\n",
      " 'GT Interactive' 'Konami Digital Entertainment'\n",
      " 'Sony Computer Entertainment Europe' 'Square Enix' 'LucasArts'\n",
      " 'Virgin Interactive' 'Warner Bros. Interactive Entertainment'\n",
      " 'Universal Interactive' 'Eidos Interactive' 'RedOctane' 'Vivendi Games'\n",
      " 'Enix Corporation' 'Namco Bandai Games' 'Palcom' 'Hasbro Interactive'\n",
      " 'THQ' 'Fox Interactive' 'Acclaim Entertainment' 'MTV Games'\n",
      " 'Disney Interactive Studios' nan 'Majesco Entertainment' 'Codemasters'\n",
      " 'Red Orb' 'Level 5' 'Arena Entertainment' 'Midway Games' 'JVC'\n",
      " 'Deep Silver' '989 Studios' 'NCSoft' 'UEP Systems' 'Parker Bros.' 'Maxis'\n",
      " 'Imagic' 'Tecmo Koei' 'Valve Software' 'ASCII Entertainment' 'Mindscape'\n",
      " 'Infogrames' 'Unknown' 'Square' 'Valve' 'Activision Value' 'Banpresto'\n",
      " 'D3Publisher' 'Oxygen Interactive' 'Red Storm Entertainment'\n",
      " 'Video System' 'Hello Games' 'Global Star' 'Gotham Games'\n",
      " 'Westwood Studios' 'GungHo' 'Crave Entertainment' 'Hudson Soft' 'Coleco'\n",
      " 'Rising Star Games' 'Atlus' 'TDK Mediactive' 'ASC Games' 'Zoo Games'\n",
      " 'Accolade' 'Sony Online Entertainment' '3DO' 'RTL' 'Natsume'\n",
      " 'Focus Home Interactive' 'Alchemist' 'Black Label Games' 'SouthPeak Games'\n",
      " 'Mastertronic' 'Ocean' 'Zoo Digital Publishing' 'Psygnosis'\n",
      " 'City Interactive' 'Empire Interactive' 'Success' 'Compile' 'Russel'\n",
      " 'Taito' 'Agetec' 'GSP' 'Microprose' 'Play It' 'Slightly Mad Studios'\n",
      " 'Tomy Corporation' 'Sammy Corporation' 'Koch Media' 'Game Factory' 'Titus'\n",
      " 'Marvelous Entertainment' 'Genki' 'Mojang' 'Pinnacle' 'CTO SpA'\n",
      " 'TalonSoft' 'Crystal Dynamics' 'SCi' 'Quelle' 'mixi, Inc' 'Rage Software'\n",
      " 'Ubisoft Annecy' 'Scholastic Inc.' 'Interplay' 'Mystique' 'ChunSoft'\n",
      " 'Square EA' '20th Century Fox Video Games' 'Avanquest Software'\n",
      " 'Hudson Entertainment' 'Nordic Games' 'Men-A-Vision' 'Nobilis'\n",
      " 'Big Ben Interactive' 'Touchstone' 'Spike' 'Jester Interactive'\n",
      " 'Nippon Ichi Software' 'LEGO Media' 'Quest' 'Illusion Softworks'\n",
      " 'Tigervision' 'Funbox Media' 'Rocket Company' 'Metro 3D'\n",
      " 'Mattel Interactive' 'IE Institute' 'Rondomedia'\n",
      " 'Sony Computer Entertainment America' 'Universal Gamex' 'Ghostlight'\n",
      " 'Wizard Video Games' 'BMG Interactive Entertainment' 'PQube'\n",
      " 'Trion Worlds' 'Laguna' 'Ignition Entertainment' 'Takara'\n",
      " 'Kadokawa Shoten' 'Destineer' 'Enterbrain' 'Xseed Games' 'Imagineer'\n",
      " 'System 3 Arcade Software' 'CPG Products' 'Aruze Corp' 'Gamebridge'\n",
      " 'Midas Interactive Entertainment' 'Jaleco' 'Answer Software' 'XS Games'\n",
      " 'Activision Blizzard' 'Pack In Soft' 'Rebellion' 'Xplosiv' 'Ultravision'\n",
      " 'GameMill Entertainment' 'Wanadoo' 'NovaLogic' 'Telltale Games' 'Epoch'\n",
      " 'BAM! Entertainment' 'Knowledge Adventure' 'Mastiff' 'Tetris Online'\n",
      " 'Harmonix Music Systems' 'ESP' 'TYO' 'Telegames' 'Mud Duck Productions'\n",
      " 'Screenlife' 'Pioneer LDC' 'Magical Company' 'Mentor Interactive' 'Kemco'\n",
      " 'Human Entertainment' 'Avanquest' 'Data Age' 'Electronic Arts Victor'\n",
      " 'Black Bean Games' 'Jack of All Games' '989 Sports' 'Takara Tomy'\n",
      " 'Media Rings' 'Elf' 'Kalypso Media' 'Starfish' 'Zushi Games' 'Jorudan'\n",
      " 'Destination Software, Inc' 'New' 'Brash Entertainment' 'ITT Family Games'\n",
      " 'PopCap Games' 'Home Entertainment Suppliers' 'Ackkstudios'\n",
      " 'Starpath Corp.' 'P2 Games' 'BPS' 'Gathering of Developers' 'NewKidCo'\n",
      " 'Storm City Games' 'CokeM Interactive' 'CBS Electronics' 'Magix'\n",
      " 'Marvelous Interactive' 'Nihon Falcom Corporation' 'Wargaming.net'\n",
      " 'Angel Studios' 'Arc System Works' 'Playmates' 'SNK Playmore'\n",
      " 'Hamster Corporation' 'From Software' 'Nippon Columbia' 'Nichibutsu'\n",
      " 'Little Orbit' 'Conspiracy Entertainment' 'DTP Entertainment' 'Hect'\n",
      " 'Mumbo Jumbo' 'Pacific Century Cyber Works' 'Indie Games' 'Liquid Games'\n",
      " 'NEC' 'Axela' 'ArtDink' 'Sunsoft' 'Gust' 'SNK' 'NEC Interchannel' 'FuRyu'\n",
      " 'Xing Entertainment' 'ValuSoft' 'Victor Interactive' 'Detn8 Games'\n",
      " 'American Softworks' 'Nordcurrent' 'Bomb' 'Falcom Corporation'\n",
      " 'AQ Interactive' 'CCP' 'Milestone S.r.l.' 'Sears' 'JoWood Productions'\n",
      " 'Seta Corporation' 'On Demand' 'NCS' 'Aspyr' 'Gremlin Interactive Ltd'\n",
      " 'Agatsuma Entertainment' 'Compile Heart' 'Culture Brain' 'Mad Catz'\n",
      " 'Shogakukan' 'Merscom LLC' 'Rebellion Developments' 'Nippon Telenet'\n",
      " 'TDK Core' 'bitComposer Games' 'Foreign Media Games' 'Astragon' 'SSI'\n",
      " 'Kadokawa Games' 'Idea Factory' 'Performance Designed Products'\n",
      " 'Asylum Entertainment' 'Core Design Ltd.' 'PlayV' 'UFO Interactive'\n",
      " 'Idea Factory International' 'Playlogic Game Factory' 'Essential Games'\n",
      " 'Adeline Software' 'Funcom' 'Panther Software' 'Blast! Entertainment Ltd'\n",
      " 'Game Life' 'DSI Games' 'Avalon Interactive' 'Popcorn Arcade'\n",
      " 'Neko Entertainment' 'Vir2L Studios' 'Aques' 'Syscom'\n",
      " 'White Park Bay Software' 'System 3' 'Vatical Entertainment' 'Daedalic'\n",
      " 'EA Games' 'Media Factory' 'Vic Tokai' 'The Adventure Company' 'Game Arts'\n",
      " 'Broccoli' 'Acquire' 'General Entertainment' 'Excalibur Publishing'\n",
      " 'Imadio' 'Swing! Entertainment' 'Sony Music Entertainment' 'Aqua Plus'\n",
      " 'Paradox Interactive' 'Hip Interactive' 'DreamCatcher Interactive'\n",
      " 'Tripwire Interactive' 'Sting' 'Yacht Club Games' 'SCS Software'\n",
      " 'Bigben Interactive' 'Havas Interactive' 'Slitherine Software' 'Graffiti'\n",
      " 'Funsta' 'Telstar' 'U.S. Gold' 'DreamWorks Interactive'\n",
      " 'Data Design Interactive' 'MTO' 'DHM Interactive' 'FunSoft' 'SPS'\n",
      " 'Bohemia Interactive' 'Reef Entertainment' 'Tru Blu Entertainment' 'Moss'\n",
      " 'T&E Soft' 'O-Games' 'Aksys Games' 'NDA Productions' 'Data East'\n",
      " 'Time Warner Interactive' 'Gainax Network Systems' 'Daito'\n",
      " 'O3 Entertainment' 'Gameloft' 'Xicat Interactive'\n",
      " 'Simon & Schuster Interactive' 'Valcon Games' 'PopTop Software' 'TOHO'\n",
      " 'HMH Interactive' '5pb' 'Cave' 'CDV Software Entertainment' 'Microids'\n",
      " 'PM Studios' 'Paon' 'Micro Cabin' 'GameTek' 'Benesse' 'Type-Moon'\n",
      " 'Enjoy Gaming ltd.' 'Asmik Corp' 'Interplay Productions'\n",
      " 'Asmik Ace Entertainment' 'inXile Entertainment' 'Image Epoch'\n",
      " 'Phantom EFX' 'Evolved Games' 'responDESIGN' 'Culture Publishers'\n",
      " 'Griffin International' 'Hackberry' 'Hearty Robin' 'Nippon Amuse'\n",
      " 'Origin Systems' 'Seventh Chord' 'Mitsui' 'Milestone' 'Abylight'\n",
      " 'Flight-Plan' 'Glams' 'Locus' 'Warp' 'Daedalic Entertainment'\n",
      " 'Alternative Software' 'Myelin Media' 'Mercury Games'\n",
      " 'Irem Software Engineering' 'Sunrise Interactive' 'Elite'\n",
      " 'Evolution Games' 'Tivola' 'Global A Entertainment' 'Edia' 'Athena' 'Aria'\n",
      " 'Gamecock' 'Tommo' 'Altron' 'Happinet' 'iWin' 'Media Works' 'Fortyfive'\n",
      " 'Revolution Software' 'Imax' 'Crimson Cow' '10TACLE Studios'\n",
      " 'Groove Games' 'Pack-In-Video' 'Insomniac Games'\n",
      " 'Ascaron Entertainment GmbH' 'Asgard' 'Ecole' 'Yumedia' 'Phenomedia'\n",
      " 'HAL Laboratory' 'Grand Prix Games' 'DigiCube' 'Creative Core'\n",
      " 'Kaga Create' 'WayForward Technologies' 'LSP Games' 'ASCII Media Works'\n",
      " 'Coconuts Japan' 'Arika' 'Ertain' 'Marvel Entertainment' 'Prototype'\n",
      " 'TopWare Interactive' 'Phantagram' '1C Company' 'The Learning Company'\n",
      " 'TechnoSoft' 'Vap' 'Misawa' 'Tradewest' 'Team17 Software' 'Yeti' 'Pow'\n",
      " 'Navarre Corp' 'MediaQuest' 'Max Five' 'Comfort'\n",
      " 'Monte Christo Multimedia' 'Pony Canyon' 'Riverhillsoft' 'Summitsoft'\n",
      " 'Milestone S.r.l' 'Playmore' 'MLB.com' 'Kool Kizz' 'Flashpoint Games'\n",
      " '49Games' 'Legacy Interactive' 'Alawar Entertainment' 'CyberFront'\n",
      " 'Cloud Imperium Games Corporation' 'Societa' 'Virtual Play Games'\n",
      " 'Interchannel' 'Sonnet' 'Experience Inc.' 'Zenrin' 'Iceberg Interactive'\n",
      " 'Ivolgamus' '2D Boy' 'MC2 Entertainment' 'Kando Games' 'Just Flight'\n",
      " 'Office Create' 'Mamba Games' 'Fields' 'Princess Soft'\n",
      " 'Maximum Family Games' 'Berkeley' 'Fuji' 'Dusenberry Martin Racing'\n",
      " 'imageepoch Inc.' 'Big Fish Games' 'Her Interactive' 'Kamui' 'ASK'\n",
      " 'Headup Games' 'KSS' 'Cygames' 'KID' 'Quinrose' 'Sunflowers'\n",
      " 'dramatic create' 'TGL' 'Encore' 'Extreme Entertainment Group' 'Intergrow'\n",
      " 'G.Rev' 'Sweets' 'Kokopeli Digital Studios' 'Number None' 'Nexon'\n",
      " 'id Software' 'BushiRoad' 'Tryfirst' 'Strategy First' '7G//AMES'\n",
      " 'GN Software' \"Yuke's\" 'Easy Interactive' 'Licensed 4U'\n",
      " 'FuRyu Corporation' 'Lexicon Entertainment' 'Paon Corporation'\n",
      " 'Kids Station' 'GOA' 'Graphsim Entertainment' 'King Records'\n",
      " 'Introversion Software' 'Minato Station' 'Devolver Digital' 'Blue Byte'\n",
      " 'Gaga' 'Yamasa Entertainment' 'Plenty' 'Views' 'fonfun' 'NetRevo'\n",
      " 'Codemasters Online' 'Quintet' 'Phoenix Games' 'Dorart' 'Marvelous Games'\n",
      " 'Focus Multimedia' 'Imageworks' 'Karin Entertainment' 'Aerosoft'\n",
      " 'Technos Japan Corporation' 'Gakken' 'Mirai Shounen' 'Datam Polystar'\n",
      " 'Saurus' 'HuneX' 'Revolution (Japan)' 'Giza10' 'Visco' 'Alvion' 'Mycom'\n",
      " 'Giga' 'Warashi' 'System Soft' 'Sold Out' 'Lighthouse Interactive'\n",
      " 'Masque Publishing' 'RED Entertainment' 'Michaelsoft'\n",
      " 'Media Entertainment' 'New World Computing' 'Genterprise'\n",
      " 'Interworks Unlimited, Inc.' 'Boost On' 'Stainless Games'\n",
      " 'EON Digital Entertainment' 'Epic Games' 'Naxat Soft'\n",
      " 'Ascaron Entertainment' 'Piacci' 'Nitroplus' 'Paradox Development'\n",
      " 'Otomate' 'Ongakukan' 'Commseed' 'Inti Creates' 'Takuyo'\n",
      " 'Interchannel-Holon' 'Rain Games' 'UIG Entertainment']\n"
     ]
    }
   ],
   "source": [
    "print \"Values in Platform\"\n",
    "print dataset.Platform.unique()\n",
    "print \"Values in Genre\"\n",
    "print dataset.Genre.unique()\n",
    "print \"Values in Publisher\"\n",
    "print dataset.Publisher.unique()"
   ]
  },
  {
   "cell_type": "code",
   "execution_count": 34,
   "metadata": {
    "collapsed": false
   },
   "outputs": [
    {
     "name": "stdout",
     "output_type": "stream",
     "text": [
      "0    1\n",
      "1    2\n",
      "2    3\n",
      "3    1\n",
      "4    4\n",
      "5    5\n",
      "6    2\n",
      "7    6\n",
      "8    2\n",
      "9    7\n",
      "Name: Genre, dtype: int64\n"
     ]
    }
   ],
   "source": [
    "platforms = dataset['Platform'].unique()\n",
    "genres = dataset['Genre'].unique()\n",
    "platform_val = {}\n",
    "genre_val = {}\n",
    "k = 1\n",
    "for i in platforms:\n",
    "    platform_val[i] = k\n",
    "    k = k + 1\n",
    "k = 1\n",
    "for i in genres:\n",
    "    genre_val[i] = k\n",
    "    k = k + 1\n",
    "    \n",
    "dataset[\"Platform\"] = dataset[\"Platform\"].apply(lambda x: platform_val[x])\n",
    "dataset[\"Genre\"] = dataset[\"Genre\"].apply(lambda x: genre_val[x])\n",
    "print dataset[\"Genre\"].head(10)"
   ]
  },
  {
   "cell_type": "code",
   "execution_count": 37,
   "metadata": {
    "collapsed": false
   },
   "outputs": [
    {
     "name": "stdout",
     "output_type": "stream",
     "text": [
      "   Platform    Year  Genre  NA_Sales  EU_Sales  JP_Sales  Other_Sales  \\\n",
      "0         1  2006.0      1     41.49     29.02      3.77         8.46   \n",
      "1         2  1985.0      2     29.08      3.58      6.81         0.77   \n",
      "2         1  2008.0      3     15.85     12.88      3.79         3.31   \n",
      "3         1  2009.0      1     15.75     11.01      3.28         2.96   \n",
      "4         3  1996.0      4     11.27      8.89     10.22         1.00   \n",
      "5         3  1989.0      5     23.20      2.26      4.22         0.58   \n",
      "6         4  2006.0      2     11.38      9.23      6.50         2.90   \n",
      "7         1  2006.0      6     14.03      9.20      2.93         2.85   \n",
      "8         1  2009.0      2     14.59      7.06      4.70         2.26   \n",
      "9         2  1984.0      7     26.93      0.63      0.28         0.47   \n",
      "\n",
      "   Global_Sales  \n",
      "0         82.74  \n",
      "1         40.24  \n",
      "2         35.82  \n",
      "3         33.00  \n",
      "4         31.37  \n",
      "5         30.26  \n",
      "6         30.01  \n",
      "7         29.02  \n",
      "8         28.62  \n",
      "9         28.31  \n"
     ]
    }
   ],
   "source": [
    "dataset.drop(['Rank','Name','Publisher'], axis = 1, inplace = True)\n",
    "print dataset.head(10)"
   ]
  },
  {
   "cell_type": "code",
   "execution_count": 40,
   "metadata": {
    "collapsed": false
   },
   "outputs": [
    {
     "name": "stdout",
     "output_type": "stream",
     "text": [
      "Values containing NaN\n",
      "Year\n"
     ]
    }
   ],
   "source": [
    "print \"Values containing NaN\"\n",
    "for column in dataset:\n",
    "    if dataset[column].isnull().any():\n",
    "        print column"
   ]
  },
  {
   "cell_type": "code",
   "execution_count": 43,
   "metadata": {
    "collapsed": false
   },
   "outputs": [],
   "source": [
    "dataset['Year'].fillna(dataset['Year'].mean(), inplace = True)\n",
    "dataset.to_csv('modified_video_game_sales.csv')"
   ]
  },
  {
   "cell_type": "code",
   "execution_count": null,
   "metadata": {
    "collapsed": true
   },
   "outputs": [],
   "source": []
  }
 ],
 "metadata": {
  "anaconda-cloud": {},
  "kernelspec": {
   "display_name": "Python [conda root]",
   "language": "python",
   "name": "conda-root-py"
  },
  "language_info": {
   "codemirror_mode": {
    "name": "ipython",
    "version": 2
   },
   "file_extension": ".py",
   "mimetype": "text/x-python",
   "name": "python",
   "nbconvert_exporter": "python",
   "pygments_lexer": "ipython2",
   "version": "2.7.12"
  }
 },
 "nbformat": 4,
 "nbformat_minor": 2
}
