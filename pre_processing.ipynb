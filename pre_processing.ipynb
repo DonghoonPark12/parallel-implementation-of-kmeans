{
 "cells": [
  {
   "cell_type": "code",
   "execution_count": 2,
   "metadata": {
    "collapsed": false
   },
   "outputs": [
    {
     "name": "stdout",
     "output_type": "stream",
     "text": [
      "        Rank                                               Name Platform  \\\n16588  16591                                   Mega Brain Boost       DS   \n16589  16592  Chou Ezaru wa Akai Hana: Koi wa Tsuki ni Shiru...      PSV   \n16590  16593  Eiyuu Densetsu: Sora no Kiseki Material Collec...      PSP   \n16591  16594                                Myst IV: Revelation       PC   \n16592  16595                                           Plushees       DS   \n16593  16596                 Woody Woodpecker in Crazy Castle 5      GBA   \n16594  16597                      Men in Black II: Alien Escape       GC   \n16595  16598   SCORE International Baja 1000: The Official Game      PS2   \n16596  16599                                         Know How 2       DS   \n16597  16600                                   Spirits & Spells      GBA   \n\n         Year         Genre              Publisher  NA_Sales  EU_Sales  \\\n16588  2008.0        Puzzle  Majesco Entertainment      0.01      0.00   \n16589  2016.0        Action        dramatic create      0.00      0.00   \n16590  2007.0  Role-Playing     Falcom Corporation      0.00      0.00   \n16591  2004.0     Adventure                Ubisoft      0.01      0.00   \n16592  2008.0    Simulation              Destineer      0.01      0.00   \n16593  2002.0      Platform                  Kemco      0.01      0.00   \n16594  2003.0       Shooter             Infogrames      0.01      0.00   \n16595  2008.0        Racing             Activision      0.00      0.00   \n16596  2010.0        Puzzle               7G//AMES      0.00      0.01   \n16597  2003.0      Platform                Wanadoo      0.01      0.00   \n\n       JP_Sales  Other_Sales  Global_Sales  \n16588      0.00          0.0          0.01  \n16589      0.01          0.0          0.01  \n16590      0.01          0.0          0.01  \n16591      0.00          0.0          0.01  \n16592      0.00          0.0          0.01  \n16593      0.00          0.0          0.01  \n16594      0.00          0.0          0.01  \n16595      0.00          0.0          0.01  \n16596      0.00          0.0          0.01  \n16597      0.00          0.0          0.01  \n"
     ]
    }
   ],
   "source": [
    "import pandas as pd\n",
    "dataset = pd.read_csv(\"vgsales.csv\", header = 0)\n",
    "print(dataset.tail(10))"
   ]
  },
  {
   "cell_type": "code",
   "execution_count": 3,
   "metadata": {
    "collapsed": false
   },
   "outputs": [
    {
     "name": "stdout",
     "output_type": "stream",
     "text": [
      "Values in Platform\n['Wii' 'NES' 'GB' 'DS' 'X360' 'PS3' 'PS2' 'SNES' 'GBA' '3DS' 'PS4' 'N64'\n 'PS' 'XB' 'PC' '2600' 'PSP' 'XOne' 'GC' 'WiiU' 'GEN' 'DC' 'PSV' 'SAT'\n 'SCD' 'WS' 'NG' 'TG16' '3DO' 'GG' 'PCFX']\nValues in Genre\n['Sports' 'Platform' 'Racing' 'Role-Playing' 'Puzzle' 'Misc' 'Shooter'\n 'Simulation' 'Action' 'Fighting' 'Adventure' 'Strategy']\nValues in Publisher\n['Nintendo' 'Microsoft Game Studios' 'Take-Two Interactive'\n 'Sony Computer Entertainment' 'Activision' 'Ubisoft' 'Bethesda Softworks'\n 'Electronic Arts' 'Sega' 'SquareSoft' 'Atari' '505 Games' 'Capcom'\n 'GT Interactive' 'Konami Digital Entertainment'\n 'Sony Computer Entertainment Europe' 'Square Enix' 'LucasArts'\n 'Virgin Interactive' 'Warner Bros. Interactive Entertainment'\n 'Universal Interactive' 'Eidos Interactive' 'RedOctane' 'Vivendi Games'\n 'Enix Corporation' 'Namco Bandai Games' 'Palcom' 'Hasbro Interactive'\n 'THQ' 'Fox Interactive' 'Acclaim Entertainment' 'MTV Games'\n 'Disney Interactive Studios' nan 'Majesco Entertainment' 'Codemasters'\n 'Red Orb' 'Level 5' 'Arena Entertainment' 'Midway Games' 'JVC'\n 'Deep Silver' '989 Studios' 'NCSoft' 'UEP Systems' 'Parker Bros.' 'Maxis'\n 'Imagic' 'Tecmo Koei' 'Valve Software' 'ASCII Entertainment' 'Mindscape'\n 'Infogrames' 'Unknown' 'Square' 'Valve' 'Activision Value' 'Banpresto'\n 'D3Publisher' 'Oxygen Interactive' 'Red Storm Entertainment'\n 'Video System' 'Hello Games' 'Global Star' 'Gotham Games'\n 'Westwood Studios' 'GungHo' 'Crave Entertainment' 'Hudson Soft' 'Coleco'\n 'Rising Star Games' 'Atlus' 'TDK Mediactive' 'ASC Games' 'Zoo Games'\n 'Accolade' 'Sony Online Entertainment' '3DO' 'RTL' 'Natsume'\n 'Focus Home Interactive' 'Alchemist' 'Black Label Games'\n 'SouthPeak Games' 'Mastertronic' 'Ocean' 'Zoo Digital Publishing'\n 'Psygnosis' 'City Interactive' 'Empire Interactive' 'Success' 'Compile'\n 'Russel' 'Taito' 'Agetec' 'GSP' 'Microprose' 'Play It'\n 'Slightly Mad Studios' 'Tomy Corporation' 'Sammy Corporation'\n 'Koch Media' 'Game Factory' 'Titus' 'Marvelous Entertainment' 'Genki'\n 'Mojang' 'Pinnacle' 'CTO SpA' 'TalonSoft' 'Crystal Dynamics' 'SCi'\n 'Quelle' 'mixi, Inc' 'Rage Software' 'Ubisoft Annecy' 'Scholastic Inc.'\n 'Interplay' 'Mystique' 'ChunSoft' 'Square EA'\n '20th Century Fox Video Games' 'Avanquest Software'\n 'Hudson Entertainment' 'Nordic Games' 'Men-A-Vision' 'Nobilis'\n 'Big Ben Interactive' 'Touchstone' 'Spike' 'Jester Interactive'\n 'Nippon Ichi Software' 'LEGO Media' 'Quest' 'Illusion Softworks'\n 'Tigervision' 'Funbox Media' 'Rocket Company' 'Metro 3D'\n 'Mattel Interactive' 'IE Institute' 'Rondomedia'\n 'Sony Computer Entertainment America' 'Universal Gamex' 'Ghostlight'\n 'Wizard Video Games' 'BMG Interactive Entertainment' 'PQube'\n 'Trion Worlds' 'Laguna' 'Ignition Entertainment' 'Takara'\n 'Kadokawa Shoten' 'Destineer' 'Enterbrain' 'Xseed Games' 'Imagineer'\n 'System 3 Arcade Software' 'CPG Products' 'Aruze Corp' 'Gamebridge'\n 'Midas Interactive Entertainment' 'Jaleco' 'Answer Software' 'XS Games'\n 'Activision Blizzard' 'Pack In Soft' 'Rebellion' 'Xplosiv' 'Ultravision'\n 'GameMill Entertainment' 'Wanadoo' 'NovaLogic' 'Telltale Games' 'Epoch'\n 'BAM! Entertainment' 'Knowledge Adventure' 'Mastiff' 'Tetris Online'\n 'Harmonix Music Systems' 'ESP' 'TYO' 'Telegames' 'Mud Duck Productions'\n 'Screenlife' 'Pioneer LDC' 'Magical Company' 'Mentor Interactive' 'Kemco'\n 'Human Entertainment' 'Avanquest' 'Data Age' 'Electronic Arts Victor'\n 'Black Bean Games' 'Jack of All Games' '989 Sports' 'Takara Tomy'\n 'Media Rings' 'Elf' 'Kalypso Media' 'Starfish' 'Zushi Games' 'Jorudan'\n 'Destination Software, Inc' 'New' 'Brash Entertainment'\n 'ITT Family Games' 'PopCap Games' 'Home Entertainment Suppliers'\n 'Ackkstudios' 'Starpath Corp.' 'P2 Games' 'BPS' 'Gathering of Developers'\n 'NewKidCo' 'Storm City Games' 'CokeM Interactive' 'CBS Electronics'\n 'Magix' 'Marvelous Interactive' 'Nihon Falcom Corporation'\n 'Wargaming.net' 'Angel Studios' 'Arc System Works' 'Playmates'\n 'SNK Playmore' 'Hamster Corporation' 'From Software' 'Nippon Columbia'\n 'Nichibutsu' 'Little Orbit' 'Conspiracy Entertainment'\n 'DTP Entertainment' 'Hect' 'Mumbo Jumbo' 'Pacific Century Cyber Works'\n 'Indie Games' 'Liquid Games' 'NEC' 'Axela' 'ArtDink' 'Sunsoft' 'Gust'\n 'SNK' 'NEC Interchannel' 'FuRyu' 'Xing Entertainment' 'ValuSoft'\n 'Victor Interactive' 'Detn8 Games' 'American Softworks' 'Nordcurrent'\n 'Bomb' 'Falcom Corporation' 'AQ Interactive' 'CCP' 'Milestone S.r.l.'\n 'Sears' 'JoWood Productions' 'Seta Corporation' 'On Demand' 'NCS' 'Aspyr'\n 'Gremlin Interactive Ltd' 'Agatsuma Entertainment' 'Compile Heart'\n 'Culture Brain' 'Mad Catz' 'Shogakukan' 'Merscom LLC'\n 'Rebellion Developments' 'Nippon Telenet' 'TDK Core' 'bitComposer Games'\n 'Foreign Media Games' 'Astragon' 'SSI' 'Kadokawa Games' 'Idea Factory'\n 'Performance Designed Products' 'Asylum Entertainment' 'Core Design Ltd.'\n 'PlayV' 'UFO Interactive' 'Idea Factory International'\n 'Playlogic Game Factory' 'Essential Games' 'Adeline Software' 'Funcom'\n 'Panther Software' 'Blast! Entertainment Ltd' 'Game Life' 'DSI Games'\n 'Avalon Interactive' 'Popcorn Arcade' 'Neko Entertainment'\n 'Vir2L Studios' 'Aques' 'Syscom' 'White Park Bay Software' 'System 3'\n 'Vatical Entertainment' 'Daedalic' 'EA Games' 'Media Factory' 'Vic Tokai'\n 'The Adventure Company' 'Game Arts' 'Broccoli' 'Acquire'\n 'General Entertainment' 'Excalibur Publishing' 'Imadio'\n 'Swing! Entertainment' 'Sony Music Entertainment' 'Aqua Plus'\n 'Paradox Interactive' 'Hip Interactive' 'DreamCatcher Interactive'\n 'Tripwire Interactive' 'Sting' 'Yacht Club Games' 'SCS Software'\n 'Bigben Interactive' 'Havas Interactive' 'Slitherine Software' 'Graffiti'\n 'Funsta' 'Telstar' 'U.S. Gold' 'DreamWorks Interactive'\n 'Data Design Interactive' 'MTO' 'DHM Interactive' 'FunSoft' 'SPS'\n 'Bohemia Interactive' 'Reef Entertainment' 'Tru Blu Entertainment' 'Moss'\n 'T&E Soft' 'O-Games' 'Aksys Games' 'NDA Productions' 'Data East'\n 'Time Warner Interactive' 'Gainax Network Systems' 'Daito'\n 'O3 Entertainment' 'Gameloft' 'Xicat Interactive'\n 'Simon & Schuster Interactive' 'Valcon Games' 'PopTop Software' 'TOHO'\n 'HMH Interactive' '5pb' 'Cave' 'CDV Software Entertainment' 'Microids'\n 'PM Studios' 'Paon' 'Micro Cabin' 'GameTek' 'Benesse' 'Type-Moon'\n 'Enjoy Gaming ltd.' 'Asmik Corp' 'Interplay Productions'\n 'Asmik Ace Entertainment' 'inXile Entertainment' 'Image Epoch'\n 'Phantom EFX' 'Evolved Games' 'responDESIGN' 'Culture Publishers'\n 'Griffin International' 'Hackberry' 'Hearty Robin' 'Nippon Amuse'\n 'Origin Systems' 'Seventh Chord' 'Mitsui' 'Milestone' 'Abylight'\n 'Flight-Plan' 'Glams' 'Locus' 'Warp' 'Daedalic Entertainment'\n 'Alternative Software' 'Myelin Media' 'Mercury Games'\n 'Irem Software Engineering' 'Sunrise Interactive' 'Elite'\n 'Evolution Games' 'Tivola' 'Global A Entertainment' 'Edia' 'Athena'\n 'Aria' 'Gamecock' 'Tommo' 'Altron' 'Happinet' 'iWin' 'Media Works'\n 'Fortyfive' 'Revolution Software' 'Imax' 'Crimson Cow' '10TACLE Studios'\n 'Groove Games' 'Pack-In-Video' 'Insomniac Games'\n 'Ascaron Entertainment GmbH' 'Asgard' 'Ecole' 'Yumedia' 'Phenomedia'\n 'HAL Laboratory' 'Grand Prix Games' 'DigiCube' 'Creative Core'\n 'Kaga Create' 'WayForward Technologies' 'LSP Games' 'ASCII Media Works'\n 'Coconuts Japan' 'Arika' 'Ertain' 'Marvel Entertainment' 'Prototype'\n 'TopWare Interactive' 'Phantagram' '1C Company' 'The Learning Company'\n 'TechnoSoft' 'Vap' 'Misawa' 'Tradewest' 'Team17 Software' 'Yeti' 'Pow'\n 'Navarre Corp' 'MediaQuest' 'Max Five' 'Comfort'\n 'Monte Christo Multimedia' 'Pony Canyon' 'Riverhillsoft' 'Summitsoft'\n 'Milestone S.r.l' 'Playmore' 'MLB.com' 'Kool Kizz' 'Flashpoint Games'\n '49Games' 'Legacy Interactive' 'Alawar Entertainment' 'CyberFront'\n 'Cloud Imperium Games Corporation' 'Societa' 'Virtual Play Games'\n 'Interchannel' 'Sonnet' 'Experience Inc.' 'Zenrin' 'Iceberg Interactive'\n 'Ivolgamus' '2D Boy' 'MC2 Entertainment' 'Kando Games' 'Just Flight'\n 'Office Create' 'Mamba Games' 'Fields' 'Princess Soft'\n 'Maximum Family Games' 'Berkeley' 'Fuji' 'Dusenberry Martin Racing'\n 'imageepoch Inc.' 'Big Fish Games' 'Her Interactive' 'Kamui' 'ASK'\n 'Headup Games' 'KSS' 'Cygames' 'KID' 'Quinrose' 'Sunflowers'\n 'dramatic create' 'TGL' 'Encore' 'Extreme Entertainment Group'\n 'Intergrow' 'G.Rev' 'Sweets' 'Kokopeli Digital Studios' 'Number None'\n 'Nexon' 'id Software' 'BushiRoad' 'Tryfirst' 'Strategy First' '7G//AMES'\n 'GN Software' \"Yuke's\" 'Easy Interactive' 'Licensed 4U'\n 'FuRyu Corporation' 'Lexicon Entertainment' 'Paon Corporation'\n 'Kids Station' 'GOA' 'Graphsim Entertainment' 'King Records'\n 'Introversion Software' 'Minato Station' 'Devolver Digital' 'Blue Byte'\n 'Gaga' 'Yamasa Entertainment' 'Plenty' 'Views' 'fonfun' 'NetRevo'\n 'Codemasters Online' 'Quintet' 'Phoenix Games' 'Dorart' 'Marvelous Games'\n 'Focus Multimedia' 'Imageworks' 'Karin Entertainment' 'Aerosoft'\n 'Technos Japan Corporation' 'Gakken' 'Mirai Shounen' 'Datam Polystar'\n 'Saurus' 'HuneX' 'Revolution (Japan)' 'Giza10' 'Visco' 'Alvion' 'Mycom'\n 'Giga' 'Warashi' 'System Soft' 'Sold Out' 'Lighthouse Interactive'\n 'Masque Publishing' 'RED Entertainment' 'Michaelsoft'\n 'Media Entertainment' 'New World Computing' 'Genterprise'\n 'Interworks Unlimited, Inc.' 'Boost On' 'Stainless Games'\n 'EON Digital Entertainment' 'Epic Games' 'Naxat Soft'\n 'Ascaron Entertainment' 'Piacci' 'Nitroplus' 'Paradox Development'\n 'Otomate' 'Ongakukan' 'Commseed' 'Inti Creates' 'Takuyo'\n 'Interchannel-Holon' 'Rain Games' 'UIG Entertainment']\n"
     ]
    }
   ],
   "source": [
    "print(\"Values in Platform\")\n",
    "print(dataset.Platform.unique())\n",
    "print(\"Values in Genre\")\n",
    "print(dataset.Genre.unique())\n",
    "print(\"Values in Publisher\")\n",
    "print(dataset.Publisher.unique())"
   ]
  },
  {
   "cell_type": "code",
   "execution_count": 6,
   "metadata": {
    "collapsed": false
   },
   "outputs": [
    {
     "name": "stdout",
     "output_type": "stream",
     "text": [
      "[ 1  2  3  4  5  6  7  8  9 10 11 12 13 14 15 16 17 18 19 20 21 22 23 24\n 25 26 27 28 29 30 31]\n[ 1  2  3  4  5  6  7  8  9 10 11 12]\n0    1\n1    2\n2    3\n3    1\n4    4\n5    5\n6    2\n7    6\n8    2\n9    7\nName: Genre, dtype: int64\n"
     ]
    }
   ],
   "source": [
    "platforms = dataset['Platform'].unique() # Unique number return \n",
    "print(platforms)\n",
    "genres = dataset['Genre'].unique() \n",
    "print(genres)\n",
    "\n",
    "platform_val = {}\n",
    "genre_val = {}\n",
    "k = 1\n",
    "for i in platforms: #1~31\n",
    "    platform_val[i] = k\n",
    "    k = k + 1\n",
    "k = 1\n",
    "for i in genres: #1~12\n",
    "    genre_val[i] = k\n",
    "    k = k + 1\n",
    "    \n",
    "dataset[\"Platform\"] = dataset[\"Platform\"].apply(lambda x: platform_val[x]) #rename ny number\n",
    "dataset[\"Genre\"] = dataset[\"Genre\"].apply(lambda x: genre_val[x])  #rename ny number\n",
    "print(dataset[\"Genre\"].head(10)) #10 from head"
   ]
  },
  {
   "cell_type": "code",
   "execution_count": 7,
   "metadata": {
    "collapsed": false
   },
   "outputs": [
    {
     "name": "stdout",
     "output_type": "stream",
     "text": [
      "   Platform    Year  Genre  NA_Sales  EU_Sales  JP_Sales  Other_Sales  \\\n0         1  2006.0      1     41.49     29.02      3.77         8.46   \n1         2  1985.0      2     29.08      3.58      6.81         0.77   \n2         1  2008.0      3     15.85     12.88      3.79         3.31   \n3         1  2009.0      1     15.75     11.01      3.28         2.96   \n4         3  1996.0      4     11.27      8.89     10.22         1.00   \n5         3  1989.0      5     23.20      2.26      4.22         0.58   \n6         4  2006.0      2     11.38      9.23      6.50         2.90   \n7         1  2006.0      6     14.03      9.20      2.93         2.85   \n8         1  2009.0      2     14.59      7.06      4.70         2.26   \n9         2  1984.0      7     26.93      0.63      0.28         0.47   \n\n   Global_Sales  \n0         82.74  \n1         40.24  \n2         35.82  \n3         33.00  \n4         31.37  \n5         30.26  \n6         30.01  \n7         29.02  \n8         28.62  \n9         28.31  \n"
     ]
    }
   ],
   "source": [
    "dataset.drop(['Rank','Name','Publisher'], axis = 1, inplace = True) # delete specific column\n",
    "print(dataset.head(10))"
   ]
  },
  {
   "cell_type": "code",
   "execution_count": 8,
   "metadata": {
    "collapsed": false
   },
   "outputs": [
    {
     "name": "stdout",
     "output_type": "stream",
     "text": [
      "Values containing NaN\nYear\n"
     ]
    }
   ],
   "source": [
    "print(\"Values containing NaN\")\n",
    "for column in dataset:\n",
    "    if dataset[column].isnull().any():\n",
    "        print(column)"
   ]
  },
  {
   "cell_type": "code",
   "execution_count": 43,
   "metadata": {
    "collapsed": false
   },
   "outputs": [],
   "source": [
    "dataset['Year'].fillna(dataset['Year'].mean(), inplace = True) #replace NaN element to mean value\n",
    "dataset.to_csv('modified_video_game_sales.csv') #save as a csv"
   ]
  },
  {
   "cell_type": "code",
   "execution_count": null,
   "metadata": {
    "collapsed": true
   },
   "outputs": [],
   "source": []
  }
 ],
 "metadata": {
  "anaconda-cloud": {},
  "kernelspec": {
   "display_name": "Python [conda root]",
   "language": "python",
   "name": "conda-root-py"
  },
  "language_info": {
   "codemirror_mode": {
    "name": "ipython",
    "version": 2
   },
   "file_extension": ".py",
   "mimetype": "text/x-python",
   "name": "python",
   "nbconvert_exporter": "python",
   "pygments_lexer": "ipython2",
   "version": "2.7.12"
  }
 },
 "nbformat": 4,
 "nbformat_minor": 2
}
